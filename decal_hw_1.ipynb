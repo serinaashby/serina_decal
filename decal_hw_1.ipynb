{
 "cells": [
  {
   "cell_type": "code",
   "execution_count": 4,
   "id": "ead1b208",
   "metadata": {},
   "outputs": [],
   "source": [
    "#Let's answer some homewerk questions:"
   ]
  },
  {
   "cell_type": "code",
   "execution_count": 2,
   "id": "b2f566bd",
   "metadata": {},
   "outputs": [],
   "source": [
    "#pwd \n",
    "\n",
    "    #(1)Definition: \n",
    "    #Print Working Directory is a terminal command that will output the path to the current directory that you are working in. \n",
    "\n",
    "    #(2) A description of when and why you would you use it:\n",
    "    #This command is useful whe you need to know the path to the current directory.\n",
    "\n",
    "    #(3) An example of a flag you can use with the command, along with an explanation of its effect (e.g., ls -a:\n",
    "    #pwd-L Resolves symbolic links and displays the path of the target directory. This is the default behavior of the shell built-in pwd \n",
    "    \n",
    "    "
   ]
  },
  {
   "cell_type": "code",
   "execution_count": 3,
   "id": "0276c9e1",
   "metadata": {},
   "outputs": [],
   "source": [
    "#cd\n",
    "\n",
    "    #(1)Definition: \n",
    "    #shell command for change directory. \n",
    "    \n",
    "    #(2) A description of when and why you would you use it:\n",
    "    #This command is useful to navigate to another directory like using another file browser. It lets you move around in the system.\n",
    "\n",
    "    #(3) An example of a flag you can use with the command, along with an explanation of its effect (e.g., ls -a:\n",
    "    #cd- gets you to the last working directory. \n",
    "    \n",
    "    "
   ]
  },
  {
   "cell_type": "code",
   "execution_count": null,
   "id": "5e73cb95",
   "metadata": {},
   "outputs": [],
   "source": [
    "#ls\n",
    "\n",
    "    #(1)Definition: \n",
    "    # Used to list files.\n",
    "\n",
    "    #(2) A description of when and why you would you use it:\n",
    "    #If I want to see all the files in a current directory.\n",
    "\n",
    "    #(3) An example of a flag you can use with the command, along with an explanation of its effect (e.g., ls -a:\n",
    "    #ls -l shows all the detais for files, ex. if its a regular file or directory and its' permissions \n",
    "    \n",
    "    "
   ]
  },
  {
   "cell_type": "code",
   "execution_count": null,
   "id": "e0befe3a",
   "metadata": {},
   "outputs": [],
   "source": [
    "#mkdir\n",
    "\n",
    "    #(1)Definition: \n",
    "    # Is used to make a new directory or subdirectory.\n",
    "\n",
    "    #(2) A description of when and why you would you use it:\n",
    "    #if I want to organize my files in multiple directories instead of having them all lumped into one.\n",
    "\n",
    "    #(3) An example of a flag you can use with the command, along with an explanation of its effect (e.g., ls -a:\n",
    "    #mkdir -m creates a directory with certain permissions, mkdir -m 700 allows read/write/execute permissions.\n",
    "    \n",
    "    "
   ]
  },
  {
   "cell_type": "code",
   "execution_count": null,
   "id": "1545474a",
   "metadata": {},
   "outputs": [],
   "source": [
    "#cp\n",
    "\n",
    "    #(1)Definition: \n",
    "    # Used to create an exact copy of the contents of a file, group of files, or directory. \n",
    "\n",
    "    #(2) A description of when and why you would you use it:\n",
    "    # if I want to copy an entire file or directory to another location.\n",
    "\n",
    "    #(3) An example of a flag you can use with the command, along with an explanation of its effect (e.g., ls -a:\n",
    "    #cp -R behaves recursively to copy an entire directory structure.\n",
    "    \n",
    "    "
   ]
  },
  {
   "cell_type": "code",
   "execution_count": null,
   "id": "007b1142",
   "metadata": {},
   "outputs": [],
   "source": [
    "#mv\n",
    "\n",
    "    #(1)Definition: \n",
    "    #to move files and directories from one directory to another or to rename a file or directory.\n",
    "\n",
    "    #(2) A description of when and why you would you use it:\n",
    "    #I can use the mv command if I want to move or rename files with the command line.\n",
    "\n",
    "    #(3) An example of a flag you can use with the command, along with an explanation of its effect (e.g., ls -a:\n",
    "    #I can use mv *.zip if I want to move all the files with a .zip extension\n",
    "    \n",
    "    "
   ]
  },
  {
   "cell_type": "code",
   "execution_count": null,
   "id": "bb30792c",
   "metadata": {},
   "outputs": [],
   "source": [
    "#1. What is the difference between Git, GitHub and Git Bash?\n",
    "#Git is a DevOps tool used for source code management,\n",
    "#Git bash is a command line tool utilizing git commands,\n",
    "#GitHub is an online repository used for storing programming codes and files.\n",
    "\n",
    "#2. What is the difference between the terminal and the command line?\n",
    "#a terminal is a window or application on your computer allowing you to \"talk\" to your computer ,\n",
    "#and interact with your operating system by typing commands in the command line\n",
    "#the Command Line is the active input area where you type in a command for your computer.\n",
    "\n",
    "#3. What is the difference between the Windows PowerShell and Git Bash?\n",
    "#Windows powershell is a command-line shell that has it's own scripting language built into Windows.\n",
    "#Git bash is used for working with git in a Unix-like environment on Windows with bash scripting.\n",
    "\n",
    "#4. What is the difference between Anaconda, conda and Python?\n",
    "#Anaconda is a distribution of the Python programming language specifically designed for data science\n",
    "#Conda is a package manager included in Anaconda which allows for easy installation and management of various libraries.\n",
    "#Python is the language used.\n",
    "\n",
    "#5. What is a Jupyter Notebook? What is Jupyter Lab?\n",
    "#Jupyter Notebook is an open sourced web application allowing users to create and share documents with code, equations, visualizations, and text.\n",
    "#Jupyter Notebook has a simple interface for opening Notebooks, terminals, and text files.\n",
    "#Jupyter Lab has a more advanced, feature-rich interface including notebooks, consoles, terminals, and more. \n",
    "\n",
    "#6. What is VS Code?\n",
    "#Visual Studio Code is an integrated development environment developed by Microsoft for Windows, Linux, macOS, and web browsers. \n",
    "#Features include support for debugging, syntax highlighting, intelligent code completion, snippets, code refactoring, and embedded version control with Git.\n"
   ]
  }
 ],
 "metadata": {
  "kernelspec": {
   "display_name": "Python 3 (ipykernel)",
   "language": "python",
   "name": "python3"
  },
  "language_info": {
   "codemirror_mode": {
    "name": "ipython",
    "version": 3
   },
   "file_extension": ".py",
   "mimetype": "text/x-python",
   "name": "python",
   "nbconvert_exporter": "python",
   "pygments_lexer": "ipython3",
   "version": "3.11.5"
  }
 },
 "nbformat": 4,
 "nbformat_minor": 5
}
